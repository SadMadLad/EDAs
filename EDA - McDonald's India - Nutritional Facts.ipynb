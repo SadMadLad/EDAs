{
 "cells": [
  {
   "cell_type": "markdown",
   "id": "general-tenant",
   "metadata": {},
   "source": [
    "# Setup"
   ]
  },
  {
   "cell_type": "markdown",
   "id": "optical-gross",
   "metadata": {},
   "source": [
    "## Libraries"
   ]
  },
  {
   "cell_type": "code",
   "execution_count": 1,
   "id": "touched-newark",
   "metadata": {},
   "outputs": [],
   "source": [
    "import numpy as np\n",
    "import pandas as pd\n",
    "import seaborn as sns"
   ]
  },
  {
   "cell_type": "code",
   "execution_count": 2,
   "id": "mighty-auction",
   "metadata": {},
   "outputs": [],
   "source": [
    "from sklearn.linear_model import Ridge\n",
    "from sklearn.preprocessing import StandardScaler\n",
    "from sklearn.pipeline import Pipeline"
   ]
  },
  {
   "cell_type": "code",
   "execution_count": 3,
   "id": "twenty-possession",
   "metadata": {},
   "outputs": [],
   "source": [
    "sns.set_theme()"
   ]
  },
  {
   "cell_type": "markdown",
   "id": "bottom-kelly",
   "metadata": {},
   "source": [
    "## Config"
   ]
  },
  {
   "cell_type": "code",
   "execution_count": 4,
   "id": "protective-hazard",
   "metadata": {},
   "outputs": [],
   "source": [
    "class CFG:\n",
    "    DATASET_PATH = '/kaggle/input/mcdonalds-india-menu-nutrition-facts/'\n",
    "    DATASET_NAME = 'India_Menu.csv'"
   ]
  },
  {
   "cell_type": "markdown",
   "id": "hundred-aging",
   "metadata": {},
   "source": [
    "## Loading Dataset"
   ]
  },
  {
   "cell_type": "code",
   "execution_count": 5,
   "id": "taken-tuner",
   "metadata": {},
   "outputs": [
    {
     "data": {
      "text/html": [
       "<div>\n",
       "<style scoped>\n",
       "    .dataframe tbody tr th:only-of-type {\n",
       "        vertical-align: middle;\n",
       "    }\n",
       "\n",
       "    .dataframe tbody tr th {\n",
       "        vertical-align: top;\n",
       "    }\n",
       "\n",
       "    .dataframe thead th {\n",
       "        text-align: right;\n",
       "    }\n",
       "</style>\n",
       "<table border=\"1\" class=\"dataframe\">\n",
       "  <thead>\n",
       "    <tr style=\"text-align: right;\">\n",
       "      <th></th>\n",
       "      <th>Menu Category</th>\n",
       "      <th>Menu Items</th>\n",
       "      <th>Per Serve Size</th>\n",
       "      <th>Energy (kCal)</th>\n",
       "      <th>Protein (g)</th>\n",
       "      <th>Total fat (g)</th>\n",
       "      <th>Sat Fat (g)</th>\n",
       "      <th>Trans fat (g)</th>\n",
       "      <th>Cholesterols (mg)</th>\n",
       "      <th>Total carbohydrate (g)</th>\n",
       "      <th>Total Sugars (g)</th>\n",
       "      <th>Added Sugars (g)</th>\n",
       "      <th>Sodium (mg)</th>\n",
       "    </tr>\n",
       "  </thead>\n",
       "  <tbody>\n",
       "    <tr>\n",
       "      <th>117</th>\n",
       "      <td>Beverages Menu</td>\n",
       "      <td>Large Coca-Cola</td>\n",
       "      <td>544 ml</td>\n",
       "      <td>217.36</td>\n",
       "      <td>0.00</td>\n",
       "      <td>0.00</td>\n",
       "      <td>0.00</td>\n",
       "      <td>0.00</td>\n",
       "      <td>0.00</td>\n",
       "      <td>54.34</td>\n",
       "      <td>54.34</td>\n",
       "      <td>54.34</td>\n",
       "      <td>41.99</td>\n",
       "    </tr>\n",
       "    <tr>\n",
       "      <th>33</th>\n",
       "      <td>Regular Menu</td>\n",
       "      <td>L1 Coffee with milk</td>\n",
       "      <td>205 ml</td>\n",
       "      <td>35.80</td>\n",
       "      <td>1.00</td>\n",
       "      <td>2.00</td>\n",
       "      <td>1.20</td>\n",
       "      <td>0.08</td>\n",
       "      <td>6.00</td>\n",
       "      <td>1.60</td>\n",
       "      <td>3.45</td>\n",
       "      <td>0.00</td>\n",
       "      <td>14.00</td>\n",
       "    </tr>\n",
       "    <tr>\n",
       "      <th>84</th>\n",
       "      <td>McCafe Menu</td>\n",
       "      <td>Chocolate Shake</td>\n",
       "      <td>259 ml</td>\n",
       "      <td>270.90</td>\n",
       "      <td>4.16</td>\n",
       "      <td>7.70</td>\n",
       "      <td>6.74</td>\n",
       "      <td>0.14</td>\n",
       "      <td>8.39</td>\n",
       "      <td>46.76</td>\n",
       "      <td>37.78</td>\n",
       "      <td>27.88</td>\n",
       "      <td>178.46</td>\n",
       "    </tr>\n",
       "    <tr>\n",
       "      <th>20</th>\n",
       "      <td>Regular Menu</td>\n",
       "      <td>4 piece Chicken McNuggets</td>\n",
       "      <td>64 g</td>\n",
       "      <td>169.68</td>\n",
       "      <td>10.03</td>\n",
       "      <td>9.54</td>\n",
       "      <td>4.45</td>\n",
       "      <td>0.06</td>\n",
       "      <td>24.66</td>\n",
       "      <td>10.50</td>\n",
       "      <td>0.32</td>\n",
       "      <td>0.00</td>\n",
       "      <td>313.25</td>\n",
       "    </tr>\n",
       "    <tr>\n",
       "      <th>45</th>\n",
       "      <td>Breakfast Menu</td>\n",
       "      <td>Espresso Machiato</td>\n",
       "      <td>76.5 ml</td>\n",
       "      <td>44.98</td>\n",
       "      <td>2.09</td>\n",
       "      <td>2.02</td>\n",
       "      <td>1.49</td>\n",
       "      <td>0.08</td>\n",
       "      <td>6.27</td>\n",
       "      <td>4.97</td>\n",
       "      <td>2.50</td>\n",
       "      <td>0.00</td>\n",
       "      <td>26.05</td>\n",
       "    </tr>\n",
       "  </tbody>\n",
       "</table>\n",
       "</div>"
      ],
      "text/plain": [
       "      Menu Category                 Menu Items Per Serve Size  Energy (kCal)  \\\n",
       "117  Beverages Menu            Large Coca-Cola         544 ml         217.36   \n",
       "33     Regular Menu        L1 Coffee with milk         205 ml          35.80   \n",
       "84      McCafe Menu            Chocolate Shake         259 ml         270.90   \n",
       "20     Regular Menu  4 piece Chicken McNuggets           64 g         169.68   \n",
       "45   Breakfast Menu          Espresso Machiato        76.5 ml          44.98   \n",
       "\n",
       "     Protein (g)  Total fat (g)  Sat Fat (g)  Trans fat (g)  \\\n",
       "117         0.00           0.00         0.00           0.00   \n",
       "33          1.00           2.00         1.20           0.08   \n",
       "84          4.16           7.70         6.74           0.14   \n",
       "20         10.03           9.54         4.45           0.06   \n",
       "45          2.09           2.02         1.49           0.08   \n",
       "\n",
       "     Cholesterols (mg)  Total carbohydrate (g)  Total Sugars (g)  \\\n",
       "117               0.00                   54.34             54.34   \n",
       "33                6.00                    1.60              3.45   \n",
       "84                8.39                   46.76             37.78   \n",
       "20               24.66                   10.50              0.32   \n",
       "45                6.27                    4.97              2.50   \n",
       "\n",
       "     Added Sugars (g)  Sodium (mg)  \n",
       "117             54.34        41.99  \n",
       "33               0.00        14.00  \n",
       "84              27.88       178.46  \n",
       "20               0.00       313.25  \n",
       "45               0.00        26.05  "
      ]
     },
     "execution_count": 5,
     "metadata": {},
     "output_type": "execute_result"
    }
   ],
   "source": [
    "df = pd.read_csv(CFG.DATASET_PATH + CFG.DATASET_NAME)\n",
    "df.sample(5)"
   ]
  },
  {
   "cell_type": "markdown",
   "id": "educational-marine",
   "metadata": {},
   "source": [
    "<hr>"
   ]
  },
  {
   "cell_type": "markdown",
   "id": "julian-witch",
   "metadata": {},
   "source": [
    "# General Overview"
   ]
  },
  {
   "cell_type": "markdown",
   "id": "bottom-pitch",
   "metadata": {},
   "source": [
    "## Some Preprocessing"
   ]
  },
  {
   "cell_type": "markdown",
   "id": "statutory-threshold",
   "metadata": {},
   "source": [
    "The menu items mainly consists of Regular Eatery and Beverages. We can add one more column to classify those menu items using the unit in 'Per Serving Size'. If it is 'g' -> Snack. Else -> Beverage"
   ]
  },
  {
   "cell_type": "code",
   "execution_count": 6,
   "id": "virgin-johnston",
   "metadata": {},
   "outputs": [],
   "source": [
    "def extractItemType(menu_item):\n",
    "    last_character = menu_item[-1]\n",
    "    if last_character == 'g':\n",
    "        return 'Snack'\n",
    "    else:\n",
    "        return 'Beverage'"
   ]
  },
  {
   "cell_type": "code",
   "execution_count": 7,
   "id": "realistic-color",
   "metadata": {},
   "outputs": [],
   "source": [
    "df['Food Category'] = np.vectorize(extractItemType)(df['Per Serve Size'])"
   ]
  },
  {
   "cell_type": "markdown",
   "id": "compact-agreement",
   "metadata": {},
   "source": [
    "<p>One more thing we can do is encode 'Per Serving Size' as number.</p>\n",
    "<b>Note: </b> This encoding is good for all the items that are in grams, but maybe not the best of beverages. The reason is, conversion from millileter to gram depends on the density of the beverage. But for this encoding, we are going to assume that density of the beverages is almost equal to that of water, so: <code>1 g = 1 ml</code>"
   ]
  },
  {
   "cell_type": "code",
   "execution_count": 8,
   "id": "weird-binary",
   "metadata": {},
   "outputs": [],
   "source": [
    "def serveSizeAsNum(menu_item):\n",
    "    splitted_num = menu_item.split(' ')[0]\n",
    "    return float(splitted_num)"
   ]
  },
  {
   "cell_type": "code",
   "execution_count": 9,
   "id": "renewable-slovakia",
   "metadata": {},
   "outputs": [],
   "source": [
    "df['Serve Size Number'] = np.vectorize(serveSizeAsNum)(df['Per Serve Size'])"
   ]
  },
  {
   "cell_type": "code",
   "execution_count": 10,
   "id": "encouraging-visitor",
   "metadata": {},
   "outputs": [
    {
     "data": {
      "text/html": [
       "<div>\n",
       "<style scoped>\n",
       "    .dataframe tbody tr th:only-of-type {\n",
       "        vertical-align: middle;\n",
       "    }\n",
       "\n",
       "    .dataframe tbody tr th {\n",
       "        vertical-align: top;\n",
       "    }\n",
       "\n",
       "    .dataframe thead th {\n",
       "        text-align: right;\n",
       "    }\n",
       "</style>\n",
       "<table border=\"1\" class=\"dataframe\">\n",
       "  <thead>\n",
       "    <tr style=\"text-align: right;\">\n",
       "      <th></th>\n",
       "      <th>Menu Category</th>\n",
       "      <th>Menu Items</th>\n",
       "      <th>Per Serve Size</th>\n",
       "      <th>Energy (kCal)</th>\n",
       "      <th>Protein (g)</th>\n",
       "      <th>Total fat (g)</th>\n",
       "      <th>Sat Fat (g)</th>\n",
       "      <th>Trans fat (g)</th>\n",
       "      <th>Cholesterols (mg)</th>\n",
       "      <th>Total carbohydrate (g)</th>\n",
       "      <th>Total Sugars (g)</th>\n",
       "      <th>Added Sugars (g)</th>\n",
       "      <th>Sodium (mg)</th>\n",
       "      <th>Food Category</th>\n",
       "      <th>Serve Size Number</th>\n",
       "    </tr>\n",
       "  </thead>\n",
       "  <tbody>\n",
       "    <tr>\n",
       "      <th>13</th>\n",
       "      <td>Regular Menu</td>\n",
       "      <td>American Chicken Burger</td>\n",
       "      <td>165 g</td>\n",
       "      <td>446.95</td>\n",
       "      <td>20.29</td>\n",
       "      <td>22.94</td>\n",
       "      <td>7.28</td>\n",
       "      <td>0.15</td>\n",
       "      <td>47.63</td>\n",
       "      <td>38.54</td>\n",
       "      <td>7.48</td>\n",
       "      <td>4.76</td>\n",
       "      <td>1132.30</td>\n",
       "      <td>Snack</td>\n",
       "      <td>165.0</td>\n",
       "    </tr>\n",
       "    <tr>\n",
       "      <th>71</th>\n",
       "      <td>McCafe Menu</td>\n",
       "      <td>Moroccon Mint Green Tea (R)</td>\n",
       "      <td>330 ml</td>\n",
       "      <td>7.39</td>\n",
       "      <td>0.40</td>\n",
       "      <td>0.33</td>\n",
       "      <td>0.33</td>\n",
       "      <td>0.33</td>\n",
       "      <td>3.30</td>\n",
       "      <td>3.30</td>\n",
       "      <td>1.65</td>\n",
       "      <td>0.00</td>\n",
       "      <td>17.69</td>\n",
       "      <td>Beverage</td>\n",
       "      <td>330.0</td>\n",
       "    </tr>\n",
       "    <tr>\n",
       "      <th>2</th>\n",
       "      <td>Regular Menu</td>\n",
       "      <td>McSpicy™ Paneer Burger</td>\n",
       "      <td>199 g</td>\n",
       "      <td>652.76</td>\n",
       "      <td>20.29</td>\n",
       "      <td>39.45</td>\n",
       "      <td>17.12</td>\n",
       "      <td>0.18</td>\n",
       "      <td>21.85</td>\n",
       "      <td>52.33</td>\n",
       "      <td>8.35</td>\n",
       "      <td>5.27</td>\n",
       "      <td>1074.58</td>\n",
       "      <td>Snack</td>\n",
       "      <td>199.0</td>\n",
       "    </tr>\n",
       "  </tbody>\n",
       "</table>\n",
       "</div>"
      ],
      "text/plain": [
       "   Menu Category                   Menu Items Per Serve Size  Energy (kCal)  \\\n",
       "13  Regular Menu      American Chicken Burger          165 g         446.95   \n",
       "71   McCafe Menu  Moroccon Mint Green Tea (R)         330 ml           7.39   \n",
       "2   Regular Menu       McSpicy™ Paneer Burger          199 g         652.76   \n",
       "\n",
       "    Protein (g)  Total fat (g)  Sat Fat (g)  Trans fat (g)  Cholesterols (mg)  \\\n",
       "13        20.29          22.94         7.28           0.15              47.63   \n",
       "71         0.40           0.33         0.33           0.33               3.30   \n",
       "2         20.29          39.45        17.12           0.18              21.85   \n",
       "\n",
       "    Total carbohydrate (g)  Total Sugars (g)  Added Sugars (g)  Sodium (mg)  \\\n",
       "13                   38.54              7.48              4.76      1132.30   \n",
       "71                    3.30              1.65              0.00        17.69   \n",
       "2                    52.33              8.35              5.27      1074.58   \n",
       "\n",
       "   Food Category  Serve Size Number  \n",
       "13         Snack              165.0  \n",
       "71      Beverage              330.0  \n",
       "2          Snack              199.0  "
      ]
     },
     "execution_count": 10,
     "metadata": {},
     "output_type": "execute_result"
    }
   ],
   "source": [
    "df.sample(3)"
   ]
  },
  {
   "cell_type": "markdown",
   "id": "annual-crest",
   "metadata": {},
   "source": [
    "## Options for Moving Forward"
   ]
  },
  {
   "cell_type": "markdown",
   "id": "specific-equity",
   "metadata": {},
   "source": [
    "<p>With the extraction of Serve Size as numbers, we have two options to move on:</p>\n",
    "<ol>\n",
    "    <li>Convert all numeric columns to 'per grams' (by Dividing each column by 'Serve Size Number'. </li>\n",
    "    <li>Move on as it is. </li>\n",
    "</ol>\n",
    "<p>Another Data Frame can be created to get the nutritional data per gram for each item.</p>\n",
    "<p>However, the visualizaitons created will be for the original dataframe. </p>"
   ]
  },
  {
   "cell_type": "code",
   "execution_count": 11,
   "id": "composed-religious",
   "metadata": {},
   "outputs": [],
   "source": [
    "df_numeric = df.select_dtypes(include=[np.number])\n",
    "df_numeric_cols = list(df_numeric.columns)\n",
    "serve_size_num = df_numeric_cols.pop() #No need to divide Serve Size Number by itself"
   ]
  },
  {
   "cell_type": "code",
   "execution_count": 12,
   "id": "actual-simpson",
   "metadata": {},
   "outputs": [
    {
     "data": {
      "text/html": [
       "<div>\n",
       "<style scoped>\n",
       "    .dataframe tbody tr th:only-of-type {\n",
       "        vertical-align: middle;\n",
       "    }\n",
       "\n",
       "    .dataframe tbody tr th {\n",
       "        vertical-align: top;\n",
       "    }\n",
       "\n",
       "    .dataframe thead th {\n",
       "        text-align: right;\n",
       "    }\n",
       "</style>\n",
       "<table border=\"1\" class=\"dataframe\">\n",
       "  <thead>\n",
       "    <tr style=\"text-align: right;\">\n",
       "      <th></th>\n",
       "      <th>Menu Category</th>\n",
       "      <th>Menu Items</th>\n",
       "      <th>Per Serve Size</th>\n",
       "      <th>Energy (kCal)</th>\n",
       "      <th>Protein (g)</th>\n",
       "      <th>Total fat (g)</th>\n",
       "      <th>Sat Fat (g)</th>\n",
       "      <th>Trans fat (g)</th>\n",
       "      <th>Cholesterols (mg)</th>\n",
       "      <th>Total carbohydrate (g)</th>\n",
       "      <th>Total Sugars (g)</th>\n",
       "      <th>Added Sugars (g)</th>\n",
       "      <th>Sodium (mg)</th>\n",
       "      <th>Food Category</th>\n",
       "      <th>Serve Size Number</th>\n",
       "    </tr>\n",
       "  </thead>\n",
       "  <tbody>\n",
       "    <tr>\n",
       "      <th>1</th>\n",
       "      <td>Regular Menu</td>\n",
       "      <td>McAloo Tikki Burger®</td>\n",
       "      <td>146 g</td>\n",
       "      <td>2.325479</td>\n",
       "      <td>0.058219</td>\n",
       "      <td>0.077466</td>\n",
       "      <td>0.029247</td>\n",
       "      <td>0.001370</td>\n",
       "      <td>0.010068</td>\n",
       "      <td>0.344315</td>\n",
       "      <td>0.048288</td>\n",
       "      <td>0.027877</td>\n",
       "      <td>3.735205</td>\n",
       "      <td>Snack</td>\n",
       "      <td>146.0</td>\n",
       "    </tr>\n",
       "    <tr>\n",
       "      <th>56</th>\n",
       "      <td>McCafe Menu</td>\n",
       "      <td>Flat White (R)</td>\n",
       "      <td>347.5 ml</td>\n",
       "      <td>0.620777</td>\n",
       "      <td>0.029813</td>\n",
       "      <td>0.034590</td>\n",
       "      <td>0.025439</td>\n",
       "      <td>0.001007</td>\n",
       "      <td>0.104978</td>\n",
       "      <td>0.054906</td>\n",
       "      <td>0.041468</td>\n",
       "      <td>0.000000</td>\n",
       "      <td>0.445986</td>\n",
       "      <td>Beverage</td>\n",
       "      <td>347.5</td>\n",
       "    </tr>\n",
       "    <tr>\n",
       "      <th>140</th>\n",
       "      <td>Condiments Menu</td>\n",
       "      <td>Mixed Fruit Beverage</td>\n",
       "      <td>180 ml</td>\n",
       "      <td>0.401389</td>\n",
       "      <td>0.003611</td>\n",
       "      <td>0.000111</td>\n",
       "      <td>0.000111</td>\n",
       "      <td>0.000111</td>\n",
       "      <td>0.000056</td>\n",
       "      <td>0.100000</td>\n",
       "      <td>0.093500</td>\n",
       "      <td>0.000000</td>\n",
       "      <td>0.060000</td>\n",
       "      <td>Beverage</td>\n",
       "      <td>180.0</td>\n",
       "    </tr>\n",
       "    <tr>\n",
       "      <th>45</th>\n",
       "      <td>Breakfast Menu</td>\n",
       "      <td>Espresso Machiato</td>\n",
       "      <td>76.5 ml</td>\n",
       "      <td>0.587974</td>\n",
       "      <td>0.027320</td>\n",
       "      <td>0.026405</td>\n",
       "      <td>0.019477</td>\n",
       "      <td>0.001046</td>\n",
       "      <td>0.081961</td>\n",
       "      <td>0.064967</td>\n",
       "      <td>0.032680</td>\n",
       "      <td>0.000000</td>\n",
       "      <td>0.340523</td>\n",
       "      <td>Beverage</td>\n",
       "      <td>76.5</td>\n",
       "    </tr>\n",
       "    <tr>\n",
       "      <th>120</th>\n",
       "      <td>Beverages Menu</td>\n",
       "      <td>Large Fanta Oragne</td>\n",
       "      <td>544 ml</td>\n",
       "      <td>0.472206</td>\n",
       "      <td>0.000000</td>\n",
       "      <td>0.000000</td>\n",
       "      <td>0.000000</td>\n",
       "      <td>0.000000</td>\n",
       "      <td>0.000000</td>\n",
       "      <td>0.118051</td>\n",
       "      <td>0.118051</td>\n",
       "      <td>0.118051</td>\n",
       "      <td>0.202500</td>\n",
       "      <td>Beverage</td>\n",
       "      <td>544.0</td>\n",
       "    </tr>\n",
       "  </tbody>\n",
       "</table>\n",
       "</div>"
      ],
      "text/plain": [
       "       Menu Category            Menu Items Per Serve Size  Energy (kCal)  \\\n",
       "1       Regular Menu  McAloo Tikki Burger®          146 g       2.325479   \n",
       "56       McCafe Menu        Flat White (R)       347.5 ml       0.620777   \n",
       "140  Condiments Menu  Mixed Fruit Beverage         180 ml       0.401389   \n",
       "45    Breakfast Menu     Espresso Machiato        76.5 ml       0.587974   \n",
       "120   Beverages Menu    Large Fanta Oragne         544 ml       0.472206   \n",
       "\n",
       "     Protein (g)  Total fat (g)  Sat Fat (g)  Trans fat (g)  \\\n",
       "1       0.058219       0.077466     0.029247       0.001370   \n",
       "56      0.029813       0.034590     0.025439       0.001007   \n",
       "140     0.003611       0.000111     0.000111       0.000111   \n",
       "45      0.027320       0.026405     0.019477       0.001046   \n",
       "120     0.000000       0.000000     0.000000       0.000000   \n",
       "\n",
       "     Cholesterols (mg)  Total carbohydrate (g)  Total Sugars (g)  \\\n",
       "1             0.010068                0.344315          0.048288   \n",
       "56            0.104978                0.054906          0.041468   \n",
       "140           0.000056                0.100000          0.093500   \n",
       "45            0.081961                0.064967          0.032680   \n",
       "120           0.000000                0.118051          0.118051   \n",
       "\n",
       "     Added Sugars (g)  Sodium (mg) Food Category  Serve Size Number  \n",
       "1            0.027877     3.735205         Snack              146.0  \n",
       "56           0.000000     0.445986      Beverage              347.5  \n",
       "140          0.000000     0.060000      Beverage              180.0  \n",
       "45           0.000000     0.340523      Beverage               76.5  \n",
       "120          0.118051     0.202500      Beverage              544.0  "
      ]
     },
     "execution_count": 12,
     "metadata": {},
     "output_type": "execute_result"
    }
   ],
   "source": [
    "df_avg = df.copy()\n",
    "for col in df_numeric_cols:\n",
    "    df_avg[col] = df_avg[col] / df[serve_size_num]\n",
    "    \n",
    "df_avg.sample(5)"
   ]
  },
  {
   "cell_type": "markdown",
   "id": "coordinated-surge",
   "metadata": {},
   "source": [
    "## Missing Values"
   ]
  },
  {
   "cell_type": "code",
   "execution_count": 13,
   "id": "invisible-framing",
   "metadata": {},
   "outputs": [
    {
     "name": "stdout",
     "output_type": "stream",
     "text": [
      "<class 'pandas.core.frame.DataFrame'>\n",
      "RangeIndex: 141 entries, 0 to 140\n",
      "Data columns (total 15 columns):\n",
      " #   Column                  Non-Null Count  Dtype  \n",
      "---  ------                  --------------  -----  \n",
      " 0   Menu Category           141 non-null    object \n",
      " 1   Menu Items              141 non-null    object \n",
      " 2   Per Serve Size          141 non-null    object \n",
      " 3   Energy (kCal)           141 non-null    float64\n",
      " 4   Protein (g)             141 non-null    float64\n",
      " 5   Total fat (g)           141 non-null    float64\n",
      " 6   Sat Fat (g)             141 non-null    float64\n",
      " 7   Trans fat (g)           141 non-null    float64\n",
      " 8   Cholesterols (mg)       141 non-null    float64\n",
      " 9   Total carbohydrate (g)  141 non-null    float64\n",
      " 10  Total Sugars (g)        141 non-null    float64\n",
      " 11  Added Sugars (g)        141 non-null    float64\n",
      " 12  Sodium (mg)             140 non-null    float64\n",
      " 13  Food Category           141 non-null    object \n",
      " 14  Serve Size Number       141 non-null    float64\n",
      "dtypes: float64(11), object(4)\n",
      "memory usage: 16.6+ KB\n"
     ]
    }
   ],
   "source": [
    "df.info()"
   ]
  },
  {
   "cell_type": "markdown",
   "id": "enhanced-arlington",
   "metadata": {},
   "source": [
    "<p>So, one row has missing value of Sodium. We can deal with this in following ways:</p>\n",
    "<ul>\n",
    "    <li>We can simply ignore one single row.</li>\n",
    "    <li>We can use imputation techniques like mean or median.</li>\n",
    "    <li>Maybe we can see if Sodium is correlated with other variable.</li>\n",
    "</ul>\n",
    "<p>I am going for the last approach to find is there any correlation of sodium with other variables.</p>"
   ]
  },
  {
   "cell_type": "markdown",
   "id": "accepting-legend",
   "metadata": {},
   "source": [
    "## Data Imputation"
   ]
  },
  {
   "cell_type": "markdown",
   "id": "round-arrangement",
   "metadata": {},
   "source": [
    "One way to check correlation between different features would be to draw <b>correlation matrix</b>."
   ]
  },
  {
   "cell_type": "code",
   "execution_count": 14,
   "id": "negative-undergraduate",
   "metadata": {},
   "outputs": [
    {
     "data": {
      "text/plain": [
       "<AxesSubplot:>"
      ]
     },
     "execution_count": 14,
     "metadata": {},
     "output_type": "execute_result"
    },
    {
     "data": {
      "image/png": "[encoded data removed]",
      "text/plain": [
       "<Figure size 432x288 with 2 Axes>"
      ]
     },
     "metadata": {},
     "output_type": "display_data"
    }
   ],
   "source": [
    "corr = df.corr()\n",
    "mask = np.triu(np.ones_like(corr))\n",
    "sns.heatmap(corr, cmap='Blues', annot=False, mask=mask)"
   ]
  },
  {
   "cell_type": "markdown",
   "id": "exposed-glance",
   "metadata": {},
   "source": [
    "So the correlation matrix suggests that there is strong correlation between Proteins and Sodium. Lets see what kind of correlation there is?"
   ]
  },
  {
   "cell_type": "code",
   "execution_count": 15,
   "id": "worse-conspiracy",
   "metadata": {},
   "outputs": [
    {
     "data": {
      "text/plain": [
       "<AxesSubplot:xlabel='Protein (g)', ylabel='Sodium (mg)'>"
      ]
     },
     "execution_count": 15,
     "metadata": {},
     "output_type": "execute_result"
    },
    {
     "data": {
      "image/png": "[encoded data removed]",
      "text/plain": [
       "<Figure size 432x288 with 1 Axes>"
      ]
     },
     "metadata": {},
     "output_type": "display_data"
    }
   ],
   "source": [
    "#Plotting scatterplot where both sodium and protein content have non-zero values\n",
    "df_protein_sodium = pd.DataFrame(df['Protein (g)'])\n",
    "df_protein_sodium['Sodium (mg)'] = df['Sodium (mg)']\n",
    "\n",
    "df_protein_sodium_1 = df_protein_sodium.loc[(df_protein_sodium['Sodium (mg)'] > 1) & (df_protein_sodium['Protein (g)'])]\n",
    "sns.scatterplot(data=df_protein_sodium_1, x='Protein (g)', y='Sodium (mg)', palette='green', alpha=0.5)"
   ]
  },
  {
   "cell_type": "markdown",
   "id": "olympic-representation",
   "metadata": {},
   "source": [
    "Hmm. Maybe we can use Proteins to use predict the missing value for Missing Sodium. Does not seem like a bad idea."
   ]
  },
  {
   "cell_type": "markdown",
   "id": "artistic-consultation",
   "metadata": {},
   "source": [
    "## Using Linear Regression for Data Imputation"
   ]
  },
  {
   "cell_type": "code",
   "execution_count": 16,
   "id": "detected-father",
   "metadata": {},
   "outputs": [],
   "source": [
    "df_protein_sodium_clean = df_protein_sodium.dropna()\n",
    "\n",
    "X_train, y_train = df_protein_sodium_clean['Protein (g)'], df_protein_sodium_clean['Sodium (mg)']\n",
    "X_train = X_train.to_numpy().reshape(-1, 1)"
   ]
  },
  {
   "cell_type": "markdown",
   "id": "incorrect-universal",
   "metadata": {},
   "source": [
    "I am using <code>sklearn.pipeline.Pipeline</code> to keep my code organized or if there is additional manipulation I need, the pipeline can easily be modified. "
   ]
  },
  {
   "cell_type": "code",
   "execution_count": 17,
   "id": "earlier-grace",
   "metadata": {},
   "outputs": [],
   "source": [
    "impute_pipe = Pipeline([\n",
    "    ('stdscaler', StandardScaler()),\n",
    "    ('ridge', Ridge()),\n",
    "])"
   ]
  },
  {
   "cell_type": "code",
   "execution_count": 18,
   "id": "present-matrix",
   "metadata": {},
   "outputs": [
    {
     "data": {
      "text/plain": [
       "Pipeline(steps=[('stdscaler', StandardScaler()), ('ridge', Ridge())])"
      ]
     },
     "execution_count": 18,
     "metadata": {},
     "output_type": "execute_result"
    }
   ],
   "source": [
    "impute_pipe.fit(X_train, y_train)"
   ]
  },
  {
   "cell_type": "markdown",
   "id": "recorded-johnston",
   "metadata": {},
   "source": [
    "Now, let's predict the missing value from our original dataset."
   ]
  },
  {
   "cell_type": "code",
   "execution_count": 19,
   "id": "acquired-lincoln",
   "metadata": {},
   "outputs": [],
   "source": [
    "missing_sodium_row = df[df['Sodium (mg)'].isnull()]\n",
    "missing_sodium_protein = missing_sodium_row['Protein (g)']\n",
    "missing_sodium_protein_index = list(missing_sodium_row.index)[0]"
   ]
  },
  {
   "cell_type": "code",
   "execution_count": 20,
   "id": "worldwide-istanbul",
   "metadata": {},
   "outputs": [],
   "source": [
    "#Prediction\n",
    "sodium_val = impute_pipe.predict([missing_sodium_protein])\n",
    "#Replacing the value in original dataframe\n",
    "df.at[missing_sodium_protein_index, 'Sodium (mg)'] = sodium_val"
   ]
  },
  {
   "cell_type": "code",
   "execution_count": 21,
   "id": "incoming-monitoring",
   "metadata": {},
   "outputs": [
    {
     "data": {
      "text/plain": [
       "Menu Category             0\n",
       "Menu Items                0\n",
       "Per Serve Size            0\n",
       "Energy (kCal)             0\n",
       "Protein (g)               0\n",
       "Total fat (g)             0\n",
       "Sat Fat (g)               0\n",
       "Trans fat (g)             0\n",
       "Cholesterols (mg)         0\n",
       "Total carbohydrate (g)    0\n",
       "Total Sugars (g)          0\n",
       "Added Sugars (g)          0\n",
       "Sodium (mg)               0\n",
       "Food Category             0\n",
       "Serve Size Number         0\n",
       "dtype: int64"
      ]
     },
     "execution_count": 21,
     "metadata": {},
     "output_type": "execute_result"
    }
   ],
   "source": [
    "df.isna().sum()"
   ]
  },
  {
   "cell_type": "markdown",
   "id": "prescribed-renaissance",
   "metadata": {},
   "source": [
    "Yes, it was a little too much to just impute a single data point but for larger datasets, this imputation technique might be helpful somewhere."
   ]
  },
  {
   "cell_type": "markdown",
   "id": "spoken-monaco",
   "metadata": {},
   "source": [
    "## Dataframe Summary"
   ]
  },
  {
   "cell_type": "code",
   "execution_count": 22,
   "id": "interracial-spectrum",
   "metadata": {},
   "outputs": [
    {
     "data": {
      "text/html": [
       "<div>\n",
       "<style scoped>\n",
       "    .dataframe tbody tr th:only-of-type {\n",
       "        vertical-align: middle;\n",
       "    }\n",
       "\n",
       "    .dataframe tbody tr th {\n",
       "        vertical-align: top;\n",
       "    }\n",
       "\n",
       "    .dataframe thead th {\n",
       "        text-align: right;\n",
       "    }\n",
       "</style>\n",
       "<table border=\"1\" class=\"dataframe\">\n",
       "  <thead>\n",
       "    <tr style=\"text-align: right;\">\n",
       "      <th></th>\n",
       "      <th>Energy (kCal)</th>\n",
       "      <th>Protein (g)</th>\n",
       "      <th>Total fat (g)</th>\n",
       "      <th>Sat Fat (g)</th>\n",
       "      <th>Trans fat (g)</th>\n",
       "      <th>Cholesterols (mg)</th>\n",
       "      <th>Total carbohydrate (g)</th>\n",
       "      <th>Total Sugars (g)</th>\n",
       "      <th>Added Sugars (g)</th>\n",
       "      <th>Sodium (mg)</th>\n",
       "      <th>Serve Size Number</th>\n",
       "    </tr>\n",
       "  </thead>\n",
       "  <tbody>\n",
       "    <tr>\n",
       "      <th>count</th>\n",
       "      <td>141.000000</td>\n",
       "      <td>141.000000</td>\n",
       "      <td>141.000000</td>\n",
       "      <td>141.000000</td>\n",
       "      <td>141.000000</td>\n",
       "      <td>141.000000</td>\n",
       "      <td>141.000000</td>\n",
       "      <td>141.000000</td>\n",
       "      <td>141.000000</td>\n",
       "      <td>141.000000</td>\n",
       "      <td>141.000000</td>\n",
       "    </tr>\n",
       "    <tr>\n",
       "      <th>mean</th>\n",
       "      <td>244.635461</td>\n",
       "      <td>7.493546</td>\n",
       "      <td>9.991702</td>\n",
       "      <td>4.997589</td>\n",
       "      <td>0.687163</td>\n",
       "      <td>26.350071</td>\n",
       "      <td>31.190284</td>\n",
       "      <td>15.464894</td>\n",
       "      <td>10.336950</td>\n",
       "      <td>368.836218</td>\n",
       "      <td>222.170213</td>\n",
       "    </tr>\n",
       "    <tr>\n",
       "      <th>std</th>\n",
       "      <td>185.554837</td>\n",
       "      <td>8.336863</td>\n",
       "      <td>10.339511</td>\n",
       "      <td>4.900451</td>\n",
       "      <td>6.326136</td>\n",
       "      <td>50.334200</td>\n",
       "      <td>20.602044</td>\n",
       "      <td>15.690202</td>\n",
       "      <td>14.283388</td>\n",
       "      <td>478.276177</td>\n",
       "      <td>124.661685</td>\n",
       "    </tr>\n",
       "    <tr>\n",
       "      <th>min</th>\n",
       "      <td>0.000000</td>\n",
       "      <td>0.000000</td>\n",
       "      <td>0.000000</td>\n",
       "      <td>0.000000</td>\n",
       "      <td>0.000000</td>\n",
       "      <td>0.000000</td>\n",
       "      <td>0.000000</td>\n",
       "      <td>0.000000</td>\n",
       "      <td>0.000000</td>\n",
       "      <td>0.000000</td>\n",
       "      <td>5.000000</td>\n",
       "    </tr>\n",
       "    <tr>\n",
       "      <th>25%</th>\n",
       "      <td>116.360000</td>\n",
       "      <td>0.650000</td>\n",
       "      <td>0.460000</td>\n",
       "      <td>0.280000</td>\n",
       "      <td>0.060000</td>\n",
       "      <td>1.510000</td>\n",
       "      <td>15.740000</td>\n",
       "      <td>2.330000</td>\n",
       "      <td>0.000000</td>\n",
       "      <td>44.530000</td>\n",
       "      <td>125.790000</td>\n",
       "    </tr>\n",
       "    <tr>\n",
       "      <th>50%</th>\n",
       "      <td>219.360000</td>\n",
       "      <td>4.790000</td>\n",
       "      <td>7.770000</td>\n",
       "      <td>4.270000</td>\n",
       "      <td>0.150000</td>\n",
       "      <td>8.390000</td>\n",
       "      <td>30.820000</td>\n",
       "      <td>9.160000</td>\n",
       "      <td>3.640000</td>\n",
       "      <td>153.150000</td>\n",
       "      <td>212.500000</td>\n",
       "    </tr>\n",
       "    <tr>\n",
       "      <th>75%</th>\n",
       "      <td>339.520000</td>\n",
       "      <td>10.880000</td>\n",
       "      <td>14.160000</td>\n",
       "      <td>7.280000</td>\n",
       "      <td>0.220000</td>\n",
       "      <td>31.110000</td>\n",
       "      <td>46.000000</td>\n",
       "      <td>26.950000</td>\n",
       "      <td>19.230000</td>\n",
       "      <td>545.340000</td>\n",
       "      <td>301.000000</td>\n",
       "    </tr>\n",
       "    <tr>\n",
       "      <th>max</th>\n",
       "      <td>834.360000</td>\n",
       "      <td>39.470000</td>\n",
       "      <td>45.180000</td>\n",
       "      <td>20.460000</td>\n",
       "      <td>75.260000</td>\n",
       "      <td>302.610000</td>\n",
       "      <td>93.840000</td>\n",
       "      <td>64.220000</td>\n",
       "      <td>64.220000</td>\n",
       "      <td>2399.490000</td>\n",
       "      <td>544.000000</td>\n",
       "    </tr>\n",
       "  </tbody>\n",
       "</table>\n",
       "</div>"
      ],
      "text/plain": [
       "       Energy (kCal)  Protein (g)  Total fat (g)  Sat Fat (g)  Trans fat (g)  \\\n",
       "count     141.000000   141.000000     141.000000   141.000000     141.000000   \n",
       "mean      244.635461     7.493546       9.991702     4.997589       0.687163   \n",
       "std       185.554837     8.336863      10.339511     4.900451       6.326136   \n",
       "min         0.000000     0.000000       0.000000     0.000000       0.000000   \n",
       "25%       116.360000     0.650000       0.460000     0.280000       0.060000   \n",
       "50%       219.360000     4.790000       7.770000     4.270000       0.150000   \n",
       "75%       339.520000    10.880000      14.160000     7.280000       0.220000   \n",
       "max       834.360000    39.470000      45.180000    20.460000      75.260000   \n",
       "\n",
       "       Cholesterols (mg)  Total carbohydrate (g)  Total Sugars (g)  \\\n",
       "count         141.000000              141.000000        141.000000   \n",
       "mean           26.350071               31.190284         15.464894   \n",
       "std            50.334200               20.602044         15.690202   \n",
       "min             0.000000                0.000000          0.000000   \n",
       "25%             1.510000               15.740000          2.330000   \n",
       "50%             8.390000               30.820000          9.160000   \n",
       "75%            31.110000               46.000000         26.950000   \n",
       "max           302.610000               93.840000         64.220000   \n",
       "\n",
       "       Added Sugars (g)  Sodium (mg)  Serve Size Number  \n",
       "count        141.000000   141.000000         141.000000  \n",
       "mean          10.336950   368.836218         222.170213  \n",
       "std           14.283388   478.276177         124.661685  \n",
       "min            0.000000     0.000000           5.000000  \n",
       "25%            0.000000    44.530000         125.790000  \n",
       "50%            3.640000   153.150000         212.500000  \n",
       "75%           19.230000   545.340000         301.000000  \n",
       "max           64.220000  2399.490000         544.000000  "
      ]
     },
     "execution_count": 22,
     "metadata": {},
     "output_type": "execute_result"
    }
   ],
   "source": [
    "df.describe()"
   ]
  },
  {
   "cell_type": "markdown",
   "id": "selected-basics",
   "metadata": {},
   "source": [
    "<hr>"
   ]
  },
  {
   "cell_type": "markdown",
   "id": "adapted-infrared",
   "metadata": {},
   "source": [
    "# Data Visualization"
   ]
  },
  {
   "cell_type": "markdown",
   "id": "atmospheric-subscription",
   "metadata": {},
   "source": [
    "## Splitting Up Dataset"
   ]
  },
  {
   "cell_type": "markdown",
   "id": "suited-airport",
   "metadata": {},
   "source": [
    "First, it is a good idea to split up dataset in numerical and categorical columns."
   ]
  },
  {
   "cell_type": "code",
   "execution_count": 23,
   "id": "treated-subscriber",
   "metadata": {},
   "outputs": [],
   "source": [
    "df_numeric = df.select_dtypes(include=[np.number])\n",
    "df_categoric = df.select_dtypes(exclude=[np.number])\n",
    "\n",
    "df_numeric_cols = list(df_numeric.columns)\n",
    "df_categoric_cols = list(df_categoric.columns)"
   ]
  },
  {
   "cell_type": "markdown",
   "id": "composed-reunion",
   "metadata": {},
   "source": [
    "## Max and Min in each column"
   ]
  },
  {
   "cell_type": "markdown",
   "id": "sonic-nigeria",
   "metadata": {},
   "source": [
    "Lets see which menu items had maximum and minimum in the columns."
   ]
  },
  {
   "cell_type": "code",
   "execution_count": 24,
   "id": "restricted-wrapping",
   "metadata": {},
   "outputs": [],
   "source": [
    "def maxAndMinStats(dataframe, cols):\n",
    "    \"\"\"Extracting out players with interesting statistics\"\"\"\n",
    "    def maxAndMin(dataf, column):\n",
    "        return dataf.loc[dataf[column].idxmax()], dataf.loc[dataf[column].idxmin()]\n",
    "    \n",
    "    maxMinList = []\n",
    "    \n",
    "    for col in cols:\n",
    "        print('Column: ', col)\n",
    "        res = maxAndMin(dataframe, col)\n",
    "        max_, min_ = res\n",
    "        print('Max in ', col, ': ', max_['Menu Items'])\n",
    "        print('Min in ', col, ': ', min_['Menu Items'], '\\n')\n",
    "        \n",
    "        maxMinList.append(res)\n",
    "    \n",
    "    return maxMinList"
   ]
  },
  {
   "cell_type": "code",
   "execution_count": 25,
   "id": "reserved-soldier",
   "metadata": {},
   "outputs": [
    {
     "name": "stdout",
     "output_type": "stream",
     "text": [
      "Column:  Energy (kCal)\n",
      "Max in  Energy (kCal) :  Chicken Cheese Lava Burger\n",
      "Min in  Energy (kCal) :  Vedica Natural Mineral Water \n",
      "\n",
      "Column:  Protein (g)\n",
      "Max in  Protein (g) :  Chunky Chipotle American Burger Chicken\n",
      "Min in  Protein (g) :  L1 Coffee \n",
      "\n",
      "Column:  Total fat (g)\n",
      "Max in  Total fat (g) :  Chicken Cheese Lava Burger\n",
      "Min in  Total fat (g) :  L1 Coffee \n",
      "\n",
      "Column:  Sat Fat (g)\n",
      "Max in  Sat Fat (g) :  McSpicy Premium Veg Burger\n",
      "Min in  Sat Fat (g) :  L1 Coffee \n",
      "\n",
      "Column:  Trans fat (g)\n",
      "Max in  Trans fat (g) :  5 piece Chicken Strips\n",
      "Min in  Trans fat (g) :  L1 Coffee \n",
      "\n",
      "Column:  Cholesterols (mg)\n",
      "Max in  Cholesterols (mg) :  McSpicy Premium Chicken Burger\n",
      "Min in  Cholesterols (mg) :  L1 Coffee \n",
      "\n",
      "Column:  Total carbohydrate (g)\n",
      "Max in  Total carbohydrate (g) :  Veg Maharaja Mac\n",
      "Min in  Total carbohydrate (g) :  Coke Zero Can \n",
      "\n",
      "Column:  Total Sugars (g)\n",
      "Max in  Total Sugars (g) :  Large Fanta Oragne\n",
      "Min in  Total Sugars (g) :  L1 Coffee \n",
      "\n",
      "Column:  Added Sugars (g)\n",
      "Max in  Added Sugars (g) :  Large Fanta Oragne\n",
      "Min in  Added Sugars (g) :  McSpicy Fried Chicken 1 pc \n",
      "\n",
      "Column:  Sodium (mg)\n",
      "Max in  Sodium (mg) :  Ghee Rice with Mc Spicy Fried Chicken 1 pc\n",
      "Min in  Sodium (mg) :  L1 Coffee \n",
      "\n",
      "Column:  Serve Size Number\n",
      "Max in  Serve Size Number :  Large Coca-Cola\n",
      "Min in  Serve Size Number :  Piri Piri Mix \n",
      "\n"
     ]
    }
   ],
   "source": [
    "maxMinStats = maxAndMinStats(df, df_numeric_cols)"
   ]
  },
  {
   "cell_type": "markdown",
   "id": "animal-diary",
   "metadata": {},
   "source": [
    "## Histograms of Numeric Data"
   ]
  },
  {
   "cell_type": "code",
   "execution_count": 26,
   "id": "vanilla-hotel",
   "metadata": {},
   "outputs": [
    {
     "data": {
      "image/png": "[encoded data removed]",
      "text/plain": [
       "<Figure size 720x720 with 12 Axes>"
      ]
     },
     "metadata": {},
     "output_type": "display_data"
    }
   ],
   "source": [
    "df.hist(figsize=(10,10));"
   ]
  },
  {
   "cell_type": "markdown",
   "id": "loving-pilot",
   "metadata": {},
   "source": [
    "## Categorical Data"
   ]
  },
  {
   "cell_type": "code",
   "execution_count": 27,
   "id": "secondary-brazilian",
   "metadata": {},
   "outputs": [
    {
     "data": {
      "text/html": [
       "<div>\n",
       "<style scoped>\n",
       "    .dataframe tbody tr th:only-of-type {\n",
       "        vertical-align: middle;\n",
       "    }\n",
       "\n",
       "    .dataframe tbody tr th {\n",
       "        vertical-align: top;\n",
       "    }\n",
       "\n",
       "    .dataframe thead th {\n",
       "        text-align: right;\n",
       "    }\n",
       "</style>\n",
       "<table border=\"1\" class=\"dataframe\">\n",
       "  <thead>\n",
       "    <tr style=\"text-align: right;\">\n",
       "      <th></th>\n",
       "      <th>Menu Category</th>\n",
       "      <th>Menu Items</th>\n",
       "      <th>Per Serve Size</th>\n",
       "      <th>Food Category</th>\n",
       "    </tr>\n",
       "  </thead>\n",
       "  <tbody>\n",
       "    <tr>\n",
       "      <th>32</th>\n",
       "      <td>Regular Menu</td>\n",
       "      <td>L1 Coffee</td>\n",
       "      <td>200 ml</td>\n",
       "      <td>Beverage</td>\n",
       "    </tr>\n",
       "    <tr>\n",
       "      <th>19</th>\n",
       "      <td>Regular Menu</td>\n",
       "      <td>McSpicy Fried Chicken 1 pc</td>\n",
       "      <td>115 g</td>\n",
       "      <td>Snack</td>\n",
       "    </tr>\n",
       "    <tr>\n",
       "      <th>64</th>\n",
       "      <td>McCafe Menu</td>\n",
       "      <td>Hot Chocolate (L)</td>\n",
       "      <td>367 ml</td>\n",
       "      <td>Beverage</td>\n",
       "    </tr>\n",
       "    <tr>\n",
       "      <th>127</th>\n",
       "      <td>Beverages Menu</td>\n",
       "      <td>Coke Float</td>\n",
       "      <td>286.79 ml</td>\n",
       "      <td>Beverage</td>\n",
       "    </tr>\n",
       "    <tr>\n",
       "      <th>55</th>\n",
       "      <td>McCafe Menu</td>\n",
       "      <td>Flat White (S)</td>\n",
       "      <td>266.5 ml</td>\n",
       "      <td>Beverage</td>\n",
       "    </tr>\n",
       "  </tbody>\n",
       "</table>\n",
       "</div>"
      ],
      "text/plain": [
       "      Menu Category                  Menu Items Per Serve Size Food Category\n",
       "32     Regular Menu                   L1 Coffee         200 ml      Beverage\n",
       "19     Regular Menu  McSpicy Fried Chicken 1 pc          115 g         Snack\n",
       "64      McCafe Menu           Hot Chocolate (L)         367 ml      Beverage\n",
       "127  Beverages Menu                  Coke Float      286.79 ml      Beverage\n",
       "55      McCafe Menu              Flat White (S)       266.5 ml      Beverage"
      ]
     },
     "execution_count": 27,
     "metadata": {},
     "output_type": "execute_result"
    }
   ],
   "source": [
    "df_categoric.sample(5)"
   ]
  },
  {
   "cell_type": "code",
   "execution_count": 28,
   "id": "short-mileage",
   "metadata": {},
   "outputs": [
    {
     "data": {
      "text/plain": [
       "<AxesSubplot:xlabel='Menu Category', ylabel='count'>"
      ]
     },
     "execution_count": 28,
     "metadata": {},
     "output_type": "execute_result"
    },
    {
     "data": {
      "image/png": "[encoded data removed]",
      "text/plain": [
       "<Figure size 864x576 with 1 Axes>"
      ]
     },
     "metadata": {},
     "output_type": "display_data"
    }
   ],
   "source": [
    "sns.set(rc={'figure.figsize':(12,8)})\n",
    "sns.countplot(x='Menu Category', data=df, palette=\"Blues_d\")"
   ]
  },
  {
   "cell_type": "code",
   "execution_count": 29,
   "id": "operational-indonesian",
   "metadata": {},
   "outputs": [
    {
     "data": {
      "text/plain": [
       "<AxesSubplot:xlabel='Food Category', ylabel='count'>"
      ]
     },
     "execution_count": 29,
     "metadata": {},
     "output_type": "execute_result"
    },
    {
     "data": {
      "image/png": "[encoded data removed]",
      "text/plain": [
       "<Figure size 864x576 with 1 Axes>"
      ]
     },
     "metadata": {},
     "output_type": "display_data"
    }
   ],
   "source": [
    "sns.countplot(x='Food Category', data=df_categoric, palette=\"Blues_d\")"
   ]
  },
  {
   "cell_type": "markdown",
   "id": "adopted-grammar",
   "metadata": {},
   "source": [
    "## Grouping Menu Items by Category"
   ]
  },
  {
   "cell_type": "code",
   "execution_count": 30,
   "id": "steady-dominant",
   "metadata": {},
   "outputs": [
    {
     "data": {
      "text/html": [
       "<div>\n",
       "<style scoped>\n",
       "    .dataframe tbody tr th:only-of-type {\n",
       "        vertical-align: middle;\n",
       "    }\n",
       "\n",
       "    .dataframe tbody tr th {\n",
       "        vertical-align: top;\n",
       "    }\n",
       "\n",
       "    .dataframe thead th {\n",
       "        text-align: right;\n",
       "    }\n",
       "</style>\n",
       "<table border=\"1\" class=\"dataframe\">\n",
       "  <thead>\n",
       "    <tr style=\"text-align: right;\">\n",
       "      <th></th>\n",
       "      <th>Energy (kCal)</th>\n",
       "      <th>Protein (g)</th>\n",
       "      <th>Total fat (g)</th>\n",
       "      <th>Sat Fat (g)</th>\n",
       "      <th>Trans fat (g)</th>\n",
       "      <th>Cholesterols (mg)</th>\n",
       "      <th>Total carbohydrate (g)</th>\n",
       "      <th>Total Sugars (g)</th>\n",
       "      <th>Added Sugars (g)</th>\n",
       "      <th>Sodium (mg)</th>\n",
       "      <th>Serve Size Number</th>\n",
       "    </tr>\n",
       "    <tr>\n",
       "      <th>Menu Category</th>\n",
       "      <th></th>\n",
       "      <th></th>\n",
       "      <th></th>\n",
       "      <th></th>\n",
       "      <th></th>\n",
       "      <th></th>\n",
       "      <th></th>\n",
       "      <th></th>\n",
       "      <th></th>\n",
       "      <th></th>\n",
       "      <th></th>\n",
       "    </tr>\n",
       "  </thead>\n",
       "  <tbody>\n",
       "    <tr>\n",
       "      <th>Beverages Menu</th>\n",
       "      <td>143.326471</td>\n",
       "      <td>0.268235</td>\n",
       "      <td>0.308824</td>\n",
       "      <td>0.225882</td>\n",
       "      <td>0.008824</td>\n",
       "      <td>0.829412</td>\n",
       "      <td>34.851765</td>\n",
       "      <td>34.677059</td>\n",
       "      <td>34.025882</td>\n",
       "      <td>37.604118</td>\n",
       "      <td>390.492353</td>\n",
       "    </tr>\n",
       "    <tr>\n",
       "      <th>Breakfast Menu</th>\n",
       "      <td>181.290000</td>\n",
       "      <td>7.636667</td>\n",
       "      <td>7.735333</td>\n",
       "      <td>4.354000</td>\n",
       "      <td>0.146000</td>\n",
       "      <td>61.010667</td>\n",
       "      <td>21.074000</td>\n",
       "      <td>4.358667</td>\n",
       "      <td>1.220000</td>\n",
       "      <td>360.378000</td>\n",
       "      <td>174.013333</td>\n",
       "    </tr>\n",
       "    <tr>\n",
       "      <th>Condiments Menu</th>\n",
       "      <td>47.473333</td>\n",
       "      <td>0.731111</td>\n",
       "      <td>3.876667</td>\n",
       "      <td>0.572222</td>\n",
       "      <td>0.067778</td>\n",
       "      <td>1.834444</td>\n",
       "      <td>8.287778</td>\n",
       "      <td>6.104444</td>\n",
       "      <td>1.691111</td>\n",
       "      <td>121.148889</td>\n",
       "      <td>37.444444</td>\n",
       "    </tr>\n",
       "    <tr>\n",
       "      <th>Desserts Menu</th>\n",
       "      <td>162.875000</td>\n",
       "      <td>2.815000</td>\n",
       "      <td>5.255000</td>\n",
       "      <td>3.160000</td>\n",
       "      <td>0.095000</td>\n",
       "      <td>6.400000</td>\n",
       "      <td>26.055000</td>\n",
       "      <td>19.920000</td>\n",
       "      <td>15.015000</td>\n",
       "      <td>115.815000</td>\n",
       "      <td>117.085000</td>\n",
       "    </tr>\n",
       "    <tr>\n",
       "      <th>Gourmet Menu</th>\n",
       "      <td>543.497273</td>\n",
       "      <td>21.684545</td>\n",
       "      <td>27.671818</td>\n",
       "      <td>11.987273</td>\n",
       "      <td>0.194545</td>\n",
       "      <td>73.210909</td>\n",
       "      <td>49.179091</td>\n",
       "      <td>8.799091</td>\n",
       "      <td>4.811818</td>\n",
       "      <td>1272.338796</td>\n",
       "      <td>217.363636</td>\n",
       "    </tr>\n",
       "    <tr>\n",
       "      <th>McCafe Menu</th>\n",
       "      <td>183.679608</td>\n",
       "      <td>4.295490</td>\n",
       "      <td>5.945686</td>\n",
       "      <td>4.558824</td>\n",
       "      <td>0.219804</td>\n",
       "      <td>12.861373</td>\n",
       "      <td>29.039412</td>\n",
       "      <td>22.615490</td>\n",
       "      <td>13.680980</td>\n",
       "      <td>103.371961</td>\n",
       "      <td>264.452157</td>\n",
       "    </tr>\n",
       "    <tr>\n",
       "      <th>Regular Menu</th>\n",
       "      <td>367.737778</td>\n",
       "      <td>12.990833</td>\n",
       "      <td>17.625833</td>\n",
       "      <td>7.213333</td>\n",
       "      <td>2.233333</td>\n",
       "      <td>35.987222</td>\n",
       "      <td>37.237778</td>\n",
       "      <td>5.019444</td>\n",
       "      <td>1.801667</td>\n",
       "      <td>704.758333</td>\n",
       "      <td>156.338889</td>\n",
       "    </tr>\n",
       "  </tbody>\n",
       "</table>\n",
       "</div>"
      ],
      "text/plain": [
       "                 Energy (kCal)  Protein (g)  Total fat (g)  Sat Fat (g)  \\\n",
       "Menu Category                                                             \n",
       "Beverages Menu      143.326471     0.268235       0.308824     0.225882   \n",
       "Breakfast Menu      181.290000     7.636667       7.735333     4.354000   \n",
       "Condiments Menu      47.473333     0.731111       3.876667     0.572222   \n",
       "Desserts Menu       162.875000     2.815000       5.255000     3.160000   \n",
       "Gourmet Menu        543.497273    21.684545      27.671818    11.987273   \n",
       "McCafe Menu         183.679608     4.295490       5.945686     4.558824   \n",
       "Regular Menu        367.737778    12.990833      17.625833     7.213333   \n",
       "\n",
       "                 Trans fat (g)  Cholesterols (mg)  Total carbohydrate (g)  \\\n",
       "Menu Category                                                               \n",
       "Beverages Menu        0.008824           0.829412               34.851765   \n",
       "Breakfast Menu        0.146000          61.010667               21.074000   \n",
       "Condiments Menu       0.067778           1.834444                8.287778   \n",
       "Desserts Menu         0.095000           6.400000               26.055000   \n",
       "Gourmet Menu          0.194545          73.210909               49.179091   \n",
       "McCafe Menu           0.219804          12.861373               29.039412   \n",
       "Regular Menu          2.233333          35.987222               37.237778   \n",
       "\n",
       "                 Total Sugars (g)  Added Sugars (g)  Sodium (mg)  \\\n",
       "Menu Category                                                      \n",
       "Beverages Menu          34.677059         34.025882    37.604118   \n",
       "Breakfast Menu           4.358667          1.220000   360.378000   \n",
       "Condiments Menu          6.104444          1.691111   121.148889   \n",
       "Desserts Menu           19.920000         15.015000   115.815000   \n",
       "Gourmet Menu             8.799091          4.811818  1272.338796   \n",
       "McCafe Menu             22.615490         13.680980   103.371961   \n",
       "Regular Menu             5.019444          1.801667   704.758333   \n",
       "\n",
       "                 Serve Size Number  \n",
       "Menu Category                       \n",
       "Beverages Menu          390.492353  \n",
       "Breakfast Menu          174.013333  \n",
       "Condiments Menu          37.444444  \n",
       "Desserts Menu           117.085000  \n",
       "Gourmet Menu            217.363636  \n",
       "McCafe Menu             264.452157  \n",
       "Regular Menu            156.338889  "
      ]
     },
     "execution_count": 30,
     "metadata": {},
     "output_type": "execute_result"
    }
   ],
   "source": [
    "df_means = df.groupby('Menu Category').agg('mean')\n",
    "df_means"
   ]
  },
  {
   "cell_type": "code",
   "execution_count": 31,
   "id": "under-adoption",
   "metadata": {},
   "outputs": [
    {
     "data": {
      "text/html": [
       "<style type=\"text/css\">\n",
       "#T_3534c_row0_col0 {\n",
       "  background-color: #d1e2f3;\n",
       "  color: #000000;\n",
       "}\n",
       "#T_3534c_row0_col1, #T_3534c_row0_col2, #T_3534c_row0_col3, #T_3534c_row0_col4, #T_3534c_row0_col5, #T_3534c_row0_col9, #T_3534c_row1_col7, #T_3534c_row1_col8, #T_3534c_row2_col0, #T_3534c_row2_col6, #T_3534c_row2_col10 {\n",
       "  background-color: #f7fbff;\n",
       "  color: #000000;\n",
       "}\n",
       "#T_3534c_row0_col6 {\n",
       "  background-color: #3b8bc2;\n",
       "  color: #f1f1f1;\n",
       "}\n",
       "#T_3534c_row0_col7, #T_3534c_row0_col8, #T_3534c_row0_col10, #T_3534c_row4_col0, #T_3534c_row4_col1, #T_3534c_row4_col2, #T_3534c_row4_col3, #T_3534c_row4_col5, #T_3534c_row4_col6, #T_3534c_row4_col9, #T_3534c_row6_col4 {\n",
       "  background-color: #08306b;\n",
       "  color: #f1f1f1;\n",
       "}\n",
       "#T_3534c_row1_col0, #T_3534c_row1_col2 {\n",
       "  background-color: #bfd8ed;\n",
       "  color: #000000;\n",
       "}\n",
       "#T_3534c_row1_col1 {\n",
       "  background-color: #a8cee4;\n",
       "  color: #000000;\n",
       "}\n",
       "#T_3534c_row1_col3 {\n",
       "  background-color: #a6cee4;\n",
       "  color: #000000;\n",
       "}\n",
       "#T_3534c_row1_col4 {\n",
       "  background-color: #ebf3fb;\n",
       "  color: #000000;\n",
       "}\n",
       "#T_3534c_row1_col5 {\n",
       "  background-color: #115ca5;\n",
       "  color: #f1f1f1;\n",
       "}\n",
       "#T_3534c_row1_col6 {\n",
       "  background-color: #b2d2e8;\n",
       "  color: #000000;\n",
       "}\n",
       "#T_3534c_row1_col9 {\n",
       "  background-color: #c3daee;\n",
       "  color: #000000;\n",
       "}\n",
       "#T_3534c_row1_col10 {\n",
       "  background-color: #99c7e0;\n",
       "  color: #000000;\n",
       "}\n",
       "#T_3534c_row2_col1, #T_3534c_row6_col7 {\n",
       "  background-color: #f3f8fe;\n",
       "  color: #000000;\n",
       "}\n",
       "#T_3534c_row2_col2 {\n",
       "  background-color: #ddeaf7;\n",
       "  color: #000000;\n",
       "}\n",
       "#T_3534c_row2_col3 {\n",
       "  background-color: #f2f7fd;\n",
       "  color: #000000;\n",
       "}\n",
       "#T_3534c_row2_col4 {\n",
       "  background-color: #f2f8fd;\n",
       "  color: #000000;\n",
       "}\n",
       "#T_3534c_row2_col5, #T_3534c_row2_col8 {\n",
       "  background-color: #f5f9fe;\n",
       "  color: #000000;\n",
       "}\n",
       "#T_3534c_row2_col7 {\n",
       "  background-color: #ecf4fb;\n",
       "  color: #000000;\n",
       "}\n",
       "#T_3534c_row2_col9 {\n",
       "  background-color: #eaf2fb;\n",
       "  color: #000000;\n",
       "}\n",
       "#T_3534c_row3_col0 {\n",
       "  background-color: #caddf0;\n",
       "  color: #000000;\n",
       "}\n",
       "#T_3534c_row3_col1 {\n",
       "  background-color: #dfecf7;\n",
       "  color: #000000;\n",
       "}\n",
       "#T_3534c_row3_col2 {\n",
       "  background-color: #d3e4f3;\n",
       "  color: #000000;\n",
       "}\n",
       "#T_3534c_row3_col3 {\n",
       "  background-color: #c7dbef;\n",
       "  color: #000000;\n",
       "}\n",
       "#T_3534c_row3_col4 {\n",
       "  background-color: #f0f6fd;\n",
       "  color: #000000;\n",
       "}\n",
       "#T_3534c_row3_col5 {\n",
       "  background-color: #e8f1fa;\n",
       "  color: #000000;\n",
       "}\n",
       "#T_3534c_row3_col6 {\n",
       "  background-color: #85bcdc;\n",
       "  color: #000000;\n",
       "}\n",
       "#T_3534c_row3_col7 {\n",
       "  background-color: #66abd4;\n",
       "  color: #f1f1f1;\n",
       "}\n",
       "#T_3534c_row3_col8 {\n",
       "  background-color: #8cc0dd;\n",
       "  color: #000000;\n",
       "}\n",
       "#T_3534c_row3_col9 {\n",
       "  background-color: #eaf3fb;\n",
       "  color: #000000;\n",
       "}\n",
       "#T_3534c_row3_col10 {\n",
       "  background-color: #cbdef1;\n",
       "  color: #000000;\n",
       "}\n",
       "#T_3534c_row4_col4 {\n",
       "  background-color: #e7f0fa;\n",
       "  color: #000000;\n",
       "}\n",
       "#T_3534c_row4_col7 {\n",
       "  background-color: #dae8f6;\n",
       "  color: #000000;\n",
       "}\n",
       "#T_3534c_row4_col8 {\n",
       "  background-color: #e1edf8;\n",
       "  color: #000000;\n",
       "}\n",
       "#T_3534c_row4_col10 {\n",
       "  background-color: #68acd5;\n",
       "  color: #f1f1f1;\n",
       "}\n",
       "#T_3534c_row5_col0 {\n",
       "  background-color: #bed8ec;\n",
       "  color: #000000;\n",
       "}\n",
       "#T_3534c_row5_col1 {\n",
       "  background-color: #d2e3f3;\n",
       "  color: #000000;\n",
       "}\n",
       "#T_3534c_row5_col2 {\n",
       "  background-color: #cfe1f2;\n",
       "  color: #000000;\n",
       "}\n",
       "#T_3534c_row5_col3 {\n",
       "  background-color: #a0cbe2;\n",
       "  color: #000000;\n",
       "}\n",
       "#T_3534c_row5_col4 {\n",
       "  background-color: #e4eff9;\n",
       "  color: #000000;\n",
       "}\n",
       "#T_3534c_row5_col5 {\n",
       "  background-color: #d6e6f4;\n",
       "  color: #000000;\n",
       "}\n",
       "#T_3534c_row5_col6 {\n",
       "  background-color: #69add5;\n",
       "  color: #f1f1f1;\n",
       "}\n",
       "#T_3534c_row5_col7 {\n",
       "  background-color: #4997c9;\n",
       "  color: #f1f1f1;\n",
       "}\n",
       "#T_3534c_row5_col8 {\n",
       "  background-color: #9cc9e1;\n",
       "  color: #000000;\n",
       "}\n",
       "#T_3534c_row5_col9 {\n",
       "  background-color: #edf4fc;\n",
       "  color: #000000;\n",
       "}\n",
       "#T_3534c_row5_col10 {\n",
       "  background-color: #3d8dc4;\n",
       "  color: #f1f1f1;\n",
       "}\n",
       "#T_3534c_row6_col0 {\n",
       "  background-color: #3c8cc3;\n",
       "  color: #f1f1f1;\n",
       "}\n",
       "#T_3534c_row6_col1, #T_3534c_row6_col3 {\n",
       "  background-color: #4b98ca;\n",
       "  color: #f1f1f1;\n",
       "}\n",
       "#T_3534c_row6_col2 {\n",
       "  background-color: #3f8fc5;\n",
       "  color: #f1f1f1;\n",
       "}\n",
       "#T_3534c_row6_col5 {\n",
       "  background-color: #71b1d7;\n",
       "  color: #f1f1f1;\n",
       "}\n",
       "#T_3534c_row6_col6 {\n",
       "  background-color: #2c7cba;\n",
       "  color: #f1f1f1;\n",
       "}\n",
       "#T_3534c_row6_col8 {\n",
       "  background-color: #f4f9fe;\n",
       "  color: #000000;\n",
       "}\n",
       "#T_3534c_row6_col9 {\n",
       "  background-color: #5da5d1;\n",
       "  color: #f1f1f1;\n",
       "}\n",
       "#T_3534c_row6_col10 {\n",
       "  background-color: #aacfe5;\n",
       "  color: #000000;\n",
       "}\n",
       "</style>\n",
       "<table id=\"T_3534c\">\n",
       "  <thead>\n",
       "    <tr>\n",
       "      <th class=\"blank level0\" >&nbsp;</th>\n",
       "      <th id=\"T_3534c_level0_col0\" class=\"col_heading level0 col0\" >Energy (kCal)</th>\n",
       "      <th id=\"T_3534c_level0_col1\" class=\"col_heading level0 col1\" >Protein (g)</th>\n",
       "      <th id=\"T_3534c_level0_col2\" class=\"col_heading level0 col2\" >Total fat (g)</th>\n",
       "      <th id=\"T_3534c_level0_col3\" class=\"col_heading level0 col3\" >Sat Fat (g)</th>\n",
       "      <th id=\"T_3534c_level0_col4\" class=\"col_heading level0 col4\" >Trans fat (g)</th>\n",
       "      <th id=\"T_3534c_level0_col5\" class=\"col_heading level0 col5\" >Cholesterols (mg)</th>\n",
       "      <th id=\"T_3534c_level0_col6\" class=\"col_heading level0 col6\" >Total carbohydrate (g)</th>\n",
       "      <th id=\"T_3534c_level0_col7\" class=\"col_heading level0 col7\" >Total Sugars (g)</th>\n",
       "      <th id=\"T_3534c_level0_col8\" class=\"col_heading level0 col8\" >Added Sugars (g)</th>\n",
       "      <th id=\"T_3534c_level0_col9\" class=\"col_heading level0 col9\" >Sodium (mg)</th>\n",
       "      <th id=\"T_3534c_level0_col10\" class=\"col_heading level0 col10\" >Serve Size Number</th>\n",
       "    </tr>\n",
       "    <tr>\n",
       "      <th class=\"index_name level0\" >Menu Category</th>\n",
       "      <th class=\"blank col0\" >&nbsp;</th>\n",
       "      <th class=\"blank col1\" >&nbsp;</th>\n",
       "      <th class=\"blank col2\" >&nbsp;</th>\n",
       "      <th class=\"blank col3\" >&nbsp;</th>\n",
       "      <th class=\"blank col4\" >&nbsp;</th>\n",
       "      <th class=\"blank col5\" >&nbsp;</th>\n",
       "      <th class=\"blank col6\" >&nbsp;</th>\n",
       "      <th class=\"blank col7\" >&nbsp;</th>\n",
       "      <th class=\"blank col8\" >&nbsp;</th>\n",
       "      <th class=\"blank col9\" >&nbsp;</th>\n",
       "      <th class=\"blank col10\" >&nbsp;</th>\n",
       "    </tr>\n",
       "  </thead>\n",
       "  <tbody>\n",
       "    <tr>\n",
       "      <th id=\"T_3534c_level0_row0\" class=\"row_heading level0 row0\" >Beverages Menu</th>\n",
       "      <td id=\"T_3534c_row0_col0\" class=\"data row0 col0\" >143.326471</td>\n",
       "      <td id=\"T_3534c_row0_col1\" class=\"data row0 col1\" >0.268235</td>\n",
       "      <td id=\"T_3534c_row0_col2\" class=\"data row0 col2\" >0.308824</td>\n",
       "      <td id=\"T_3534c_row0_col3\" class=\"data row0 col3\" >0.225882</td>\n",
       "      <td id=\"T_3534c_row0_col4\" class=\"data row0 col4\" >0.008824</td>\n",
       "      <td id=\"T_3534c_row0_col5\" class=\"data row0 col5\" >0.829412</td>\n",
       "      <td id=\"T_3534c_row0_col6\" class=\"data row0 col6\" >34.851765</td>\n",
       "      <td id=\"T_3534c_row0_col7\" class=\"data row0 col7\" >34.677059</td>\n",
       "      <td id=\"T_3534c_row0_col8\" class=\"data row0 col8\" >34.025882</td>\n",
       "      <td id=\"T_3534c_row0_col9\" class=\"data row0 col9\" >37.604118</td>\n",
       "      <td id=\"T_3534c_row0_col10\" class=\"data row0 col10\" >390.492353</td>\n",
       "    </tr>\n",
       "    <tr>\n",
       "      <th id=\"T_3534c_level0_row1\" class=\"row_heading level0 row1\" >Breakfast Menu</th>\n",
       "      <td id=\"T_3534c_row1_col0\" class=\"data row1 col0\" >181.290000</td>\n",
       "      <td id=\"T_3534c_row1_col1\" class=\"data row1 col1\" >7.636667</td>\n",
       "      <td id=\"T_3534c_row1_col2\" class=\"data row1 col2\" >7.735333</td>\n",
       "      <td id=\"T_3534c_row1_col3\" class=\"data row1 col3\" >4.354000</td>\n",
       "      <td id=\"T_3534c_row1_col4\" class=\"data row1 col4\" >0.146000</td>\n",
       "      <td id=\"T_3534c_row1_col5\" class=\"data row1 col5\" >61.010667</td>\n",
       "      <td id=\"T_3534c_row1_col6\" class=\"data row1 col6\" >21.074000</td>\n",
       "      <td id=\"T_3534c_row1_col7\" class=\"data row1 col7\" >4.358667</td>\n",
       "      <td id=\"T_3534c_row1_col8\" class=\"data row1 col8\" >1.220000</td>\n",
       "      <td id=\"T_3534c_row1_col9\" class=\"data row1 col9\" >360.378000</td>\n",
       "      <td id=\"T_3534c_row1_col10\" class=\"data row1 col10\" >174.013333</td>\n",
       "    </tr>\n",
       "    <tr>\n",
       "      <th id=\"T_3534c_level0_row2\" class=\"row_heading level0 row2\" >Condiments Menu</th>\n",
       "      <td id=\"T_3534c_row2_col0\" class=\"data row2 col0\" >47.473333</td>\n",
       "      <td id=\"T_3534c_row2_col1\" class=\"data row2 col1\" >0.731111</td>\n",
       "      <td id=\"T_3534c_row2_col2\" class=\"data row2 col2\" >3.876667</td>\n",
       "      <td id=\"T_3534c_row2_col3\" class=\"data row2 col3\" >0.572222</td>\n",
       "      <td id=\"T_3534c_row2_col4\" class=\"data row2 col4\" >0.067778</td>\n",
       "      <td id=\"T_3534c_row2_col5\" class=\"data row2 col5\" >1.834444</td>\n",
       "      <td id=\"T_3534c_row2_col6\" class=\"data row2 col6\" >8.287778</td>\n",
       "      <td id=\"T_3534c_row2_col7\" class=\"data row2 col7\" >6.104444</td>\n",
       "      <td id=\"T_3534c_row2_col8\" class=\"data row2 col8\" >1.691111</td>\n",
       "      <td id=\"T_3534c_row2_col9\" class=\"data row2 col9\" >121.148889</td>\n",
       "      <td id=\"T_3534c_row2_col10\" class=\"data row2 col10\" >37.444444</td>\n",
       "    </tr>\n",
       "    <tr>\n",
       "      <th id=\"T_3534c_level0_row3\" class=\"row_heading level0 row3\" >Desserts Menu</th>\n",
       "      <td id=\"T_3534c_row3_col0\" class=\"data row3 col0\" >162.875000</td>\n",
       "      <td id=\"T_3534c_row3_col1\" class=\"data row3 col1\" >2.815000</td>\n",
       "      <td id=\"T_3534c_row3_col2\" class=\"data row3 col2\" >5.255000</td>\n",
       "      <td id=\"T_3534c_row3_col3\" class=\"data row3 col3\" >3.160000</td>\n",
       "      <td id=\"T_3534c_row3_col4\" class=\"data row3 col4\" >0.095000</td>\n",
       "      <td id=\"T_3534c_row3_col5\" class=\"data row3 col5\" >6.400000</td>\n",
       "      <td id=\"T_3534c_row3_col6\" class=\"data row3 col6\" >26.055000</td>\n",
       "      <td id=\"T_3534c_row3_col7\" class=\"data row3 col7\" >19.920000</td>\n",
       "      <td id=\"T_3534c_row3_col8\" class=\"data row3 col8\" >15.015000</td>\n",
       "      <td id=\"T_3534c_row3_col9\" class=\"data row3 col9\" >115.815000</td>\n",
       "      <td id=\"T_3534c_row3_col10\" class=\"data row3 col10\" >117.085000</td>\n",
       "    </tr>\n",
       "    <tr>\n",
       "      <th id=\"T_3534c_level0_row4\" class=\"row_heading level0 row4\" >Gourmet Menu</th>\n",
       "      <td id=\"T_3534c_row4_col0\" class=\"data row4 col0\" >543.497273</td>\n",
       "      <td id=\"T_3534c_row4_col1\" class=\"data row4 col1\" >21.684545</td>\n",
       "      <td id=\"T_3534c_row4_col2\" class=\"data row4 col2\" >27.671818</td>\n",
       "      <td id=\"T_3534c_row4_col3\" class=\"data row4 col3\" >11.987273</td>\n",
       "      <td id=\"T_3534c_row4_col4\" class=\"data row4 col4\" >0.194545</td>\n",
       "      <td id=\"T_3534c_row4_col5\" class=\"data row4 col5\" >73.210909</td>\n",
       "      <td id=\"T_3534c_row4_col6\" class=\"data row4 col6\" >49.179091</td>\n",
       "      <td id=\"T_3534c_row4_col7\" class=\"data row4 col7\" >8.799091</td>\n",
       "      <td id=\"T_3534c_row4_col8\" class=\"data row4 col8\" >4.811818</td>\n",
       "      <td id=\"T_3534c_row4_col9\" class=\"data row4 col9\" >1272.338796</td>\n",
       "      <td id=\"T_3534c_row4_col10\" class=\"data row4 col10\" >217.363636</td>\n",
       "    </tr>\n",
       "    <tr>\n",
       "      <th id=\"T_3534c_level0_row5\" class=\"row_heading level0 row5\" >McCafe Menu</th>\n",
       "      <td id=\"T_3534c_row5_col0\" class=\"data row5 col0\" >183.679608</td>\n",
       "      <td id=\"T_3534c_row5_col1\" class=\"data row5 col1\" >4.295490</td>\n",
       "      <td id=\"T_3534c_row5_col2\" class=\"data row5 col2\" >5.945686</td>\n",
       "      <td id=\"T_3534c_row5_col3\" class=\"data row5 col3\" >4.558824</td>\n",
       "      <td id=\"T_3534c_row5_col4\" class=\"data row5 col4\" >0.219804</td>\n",
       "      <td id=\"T_3534c_row5_col5\" class=\"data row5 col5\" >12.861373</td>\n",
       "      <td id=\"T_3534c_row5_col6\" class=\"data row5 col6\" >29.039412</td>\n",
       "      <td id=\"T_3534c_row5_col7\" class=\"data row5 col7\" >22.615490</td>\n",
       "      <td id=\"T_3534c_row5_col8\" class=\"data row5 col8\" >13.680980</td>\n",
       "      <td id=\"T_3534c_row5_col9\" class=\"data row5 col9\" >103.371961</td>\n",
       "      <td id=\"T_3534c_row5_col10\" class=\"data row5 col10\" >264.452157</td>\n",
       "    </tr>\n",
       "    <tr>\n",
       "      <th id=\"T_3534c_level0_row6\" class=\"row_heading level0 row6\" >Regular Menu</th>\n",
       "      <td id=\"T_3534c_row6_col0\" class=\"data row6 col0\" >367.737778</td>\n",
       "      <td id=\"T_3534c_row6_col1\" class=\"data row6 col1\" >12.990833</td>\n",
       "      <td id=\"T_3534c_row6_col2\" class=\"data row6 col2\" >17.625833</td>\n",
       "      <td id=\"T_3534c_row6_col3\" class=\"data row6 col3\" >7.213333</td>\n",
       "      <td id=\"T_3534c_row6_col4\" class=\"data row6 col4\" >2.233333</td>\n",
       "      <td id=\"T_3534c_row6_col5\" class=\"data row6 col5\" >35.987222</td>\n",
       "      <td id=\"T_3534c_row6_col6\" class=\"data row6 col6\" >37.237778</td>\n",
       "      <td id=\"T_3534c_row6_col7\" class=\"data row6 col7\" >5.019444</td>\n",
       "      <td id=\"T_3534c_row6_col8\" class=\"data row6 col8\" >1.801667</td>\n",
       "      <td id=\"T_3534c_row6_col9\" class=\"data row6 col9\" >704.758333</td>\n",
       "      <td id=\"T_3534c_row6_col10\" class=\"data row6 col10\" >156.338889</td>\n",
       "    </tr>\n",
       "  </tbody>\n",
       "</table>\n"
      ],
      "text/plain": [
       "<pandas.io.formats.style.Styler at 0x1cf70ba0c70>"
      ]
     },
     "execution_count": 31,
     "metadata": {},
     "output_type": "execute_result"
    }
   ],
   "source": [
    "df_means.style.background_gradient(cmap='Blues')"
   ]
  },
  {
   "cell_type": "markdown",
   "id": "cleared-chaos",
   "metadata": {},
   "source": [
    "<p>So:</p>\n",
    "<ul>\n",
    "    <li>Gourmet menu has most protein, energy, fat and cholesterol content.</li>\n",
    "    <li>Beverage Menu has lots of sugar.</li>\n",
    "</ul>"
   ]
  },
  {
   "cell_type": "markdown",
   "id": "associate-adams",
   "metadata": {},
   "source": [
    "<hr>"
   ]
  },
  {
   "cell_type": "markdown",
   "id": "united-alpha",
   "metadata": {},
   "source": [
    "# Summary"
   ]
  },
  {
   "cell_type": "markdown",
   "id": "activated-alpha",
   "metadata": {},
   "source": [
    "<p>In this dataset we:</p>\n",
    "<ul>\n",
    "    <li>We did some preprocessing to extract out more information from dataset.</li>\n",
    "    <li>We did data imputation.</li>\n",
    "    <li>We visualized data in different forms.</li>\n",
    "</ul>\n",
    "<p>Hoping you enjoyed the notebook and learnt something new.</p>\n",
    "<p>Goodbye!</p>"
   ]
  },
  {
   "cell_type": "markdown",
   "id": "going-amino",
   "metadata": {},
   "source": [
    "<hr>"
   ]
  }
 ],
 "metadata": {
  "kernelspec": {
   "display_name": "Python 3 (ipykernel)",
   "language": "python",
   "name": "python3"
  },
  "language_info": {
   "codemirror_mode": {
    "name": "ipython",
    "version": 3
   },
   "file_extension": ".py",
   "mimetype": "text/x-python",
   "name": "python",
   "nbconvert_exporter": "python",
   "pygments_lexer": "ipython3",
   "version": "3.9.2"
  }
 },
 "nbformat": 4,
 "nbformat_minor": 5
}
